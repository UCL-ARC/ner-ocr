{
 "cells": [
  {
   "cell_type": "code",
   "execution_count": null,
   "id": "93f8176a",
   "metadata": {},
   "outputs": [],
   "source": [
    "from paddleocr import PaddleOCR\n",
    "\n",
    "ocr = PaddleOCR(\n",
    "    use_doc_orientation_classify=False,  # Disables document orientation classification model via this parameter\n",
    "    use_doc_unwarping=False,  # Disables text image rectification model via this parameter\n",
    "    use_textline_orientation=False,  # Disables text line orientation classification model via this parameter\n",
    ")\n",
    "# ocr = PaddleOCR(lang=\"en\") # Uses English model by specifying language parameter\n",
    "# ocr = PaddleOCR(ocr_version=\"PP-OCRv4\") # Uses other PP-OCR versions via version parameter\n",
    "# ocr = PaddleOCR(device=\"gpu\") # Enables GPU acceleration for model inference via device parameter\n",
    "# ocr = PaddleOCR(\n",
    "#     text_detection_model_name=\"PP-OCRv5_mobile_det\",\n",
    "#     text_recognition_model_name=\"PP-OCRv5_mobile_rec\",\n",
    "#     use_doc_orientation_classify=False,\n",
    "#     use_doc_unwarping=False,\n",
    "#     use_textline_orientation=False,\n",
    "# ) # Switch to PP-OCRv5_mobile models\n",
    "result = ocr.predict(\"data/input/sd19.jpg\")\n",
    "for res in result:\n",
    "    res.print()\n",
    "    res.save_to_img(\"output\")\n",
    "    res.save_to_json(\"output\")"
   ]
  }
 ],
 "metadata": {
  "kernelspec": {
   "display_name": "ner-ocr",
   "language": "python",
   "name": "python3"
  },
  "language_info": {
   "name": "python",
   "version": "3.13.5"
  }
 },
 "nbformat": 4,
 "nbformat_minor": 5
}
